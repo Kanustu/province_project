{
 "cells": [
  {
   "cell_type": "code",
   "execution_count": 1,
   "id": "5895f3ab-f2fd-4d48-b02b-5db510352679",
   "metadata": {},
   "outputs": [],
   "source": [
    "import pandas as pd\n",
    "from bs4 import BeautifulSoup\n",
    "from typing import List\n",
    "import requests"
   ]
  },
  {
   "cell_type": "code",
   "execution_count": 2,
   "id": "2972bcf7-fd88-4f28-86e7-773656f94b50",
   "metadata": {},
   "outputs": [],
   "source": [
    "def data_retrieval(url: str) -> BeautifulSoup:\n",
    "    \"\"\"\n",
    "    Retrieves data from the given URL and returns a BeautifulSoup object.\n",
    "    \"\"\"\n",
    "    data = requests.get(url)\n",
    "    soup = BeautifulSoup(data.text, 'html.parser')\n",
    "    return soup\n",
    "\n",
    "# Function to create a DataFrame from a BeautifulSoup table\n",
    "def create_soup_df(table: BeautifulSoup) -> pd.DataFrame:\n",
    "    \"\"\"\n",
    "    Creates a DataFrame from the given BeautifulSoup table.\n",
    "    \"\"\"\n",
    "    header = table.find_all('th')\n",
    "    titles = [title.text.strip() for title in header]\n",
    "    df = pd.DataFrame(columns=titles)\n",
    "    return df\n",
    "\n",
    "# Function to find all rows in a BeautifulSoup table\n",
    "def find_rows(table: BeautifulSoup) -> List[BeautifulSoup]:\n",
    "    \"\"\"\n",
    "    Finds all rows in the given table.\n",
    "    \"\"\"\n",
    "    return table.find_all('tr')"
   ]
  },
  {
   "cell_type": "code",
   "execution_count": 3,
   "id": "2edb6595-55fc-48ed-b674-6405681e8729",
   "metadata": {},
   "outputs": [],
   "source": [
    "soup = data_retrieval('https://en.wikipedia.org/wiki/List_of_population_centres_in_Saskatchewan')"
   ]
  },
  {
   "cell_type": "code",
   "execution_count": 4,
   "id": "b80155a0-f751-4e89-95ac-09e3357c103f",
   "metadata": {},
   "outputs": [],
   "source": [
    "table = soup.find_all('table')[0]"
   ]
  },
  {
   "cell_type": "code",
   "execution_count": 5,
   "id": "666b112e-4d35-451d-9675-9d8d059fbb4e",
   "metadata": {},
   "outputs": [],
   "source": [
    "pop_df = create_soup_df(table)"
   ]
  },
  {
   "cell_type": "code",
   "execution_count": 6,
   "id": "bd47ea2b-f3b7-4176-8cd7-2d0667c542d3",
   "metadata": {},
   "outputs": [],
   "source": [
    "column_indices_to_select = [1, 2, 3]\n",
    "pop_df = pop_df.iloc[:, column_indices_to_select].copy()"
   ]
  },
  {
   "cell_type": "code",
   "execution_count": 7,
   "id": "49827877-c841-4af1-a4e6-0296518534d9",
   "metadata": {},
   "outputs": [],
   "source": [
    "pop_df = pop_df.rename(columns={'Population centre[2]': 'population_centre', 'Size group[2]': 'classification', 'Population (2021)[2]': 'population'})"
   ]
  },
  {
   "cell_type": "code",
   "execution_count": 8,
   "id": "baa83f09-47d1-4f73-86a5-3eb2ef8828c0",
   "metadata": {},
   "outputs": [],
   "source": [
    "rows = find_rows(table)"
   ]
  },
  {
   "cell_type": "code",
   "execution_count": 9,
   "id": "e123a30f-7d69-44f1-96bc-3bccce4cd7b3",
   "metadata": {},
   "outputs": [],
   "source": [
    "for row in rows[1:]:\n",
    "    row_data = row.find_all('td')\n",
    "    single_row_data = [data.text.strip() for data in row_data]\n",
    "    # Insert a duplicate of the second element into the third position if necessary\n",
    "    indices=[1,2,3]\n",
    "    extracted_info = [single_row_data[x] for x in indices]\n",
    "    length = len(pop_df)\n",
    "    pop_df.loc[length] = extracted_info"
   ]
  },
  {
   "cell_type": "code",
   "execution_count": 10,
   "id": "2c719112-7de9-49ef-8d10-c36bc7be3f28",
   "metadata": {},
   "outputs": [],
   "source": [
    "pop_df.to_csv('sask_pop_density.csv', index=False)"
   ]
  }
 ],
 "metadata": {
  "kernelspec": {
   "display_name": "ava",
   "language": "python",
   "name": "ava"
  },
  "language_info": {
   "codemirror_mode": {
    "name": "ipython",
    "version": 3
   },
   "file_extension": ".py",
   "mimetype": "text/x-python",
   "name": "python",
   "nbconvert_exporter": "python",
   "pygments_lexer": "ipython3",
   "version": "3.10.13"
  }
 },
 "nbformat": 4,
 "nbformat_minor": 5
}
