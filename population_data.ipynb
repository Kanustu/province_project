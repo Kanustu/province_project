{
 "cells": [
  {
   "cell_type": "code",
   "execution_count": 22,
   "id": "a169f3b8-0ca7-47ae-9b98-8dfe8882771d",
   "metadata": {},
   "outputs": [],
   "source": [
    "import pandas as pd\n",
    "from pydantic import BaseModel"
   ]
  },
  {
   "cell_type": "code",
   "execution_count": 23,
   "id": "190ad71a-131d-42f9-91de-43fb3ffa7e7f",
   "metadata": {},
   "outputs": [],
   "source": [
    "def read_and_column_selection(csv):\n",
    "    data = pd.read_csv(csv)\n",
    "    return data[['REF_DATE', 'Gender', 'Age group','VALUE']]\n",
    "\n",
    "def text_replace(df, column, to_replace, replacement):\n",
    "    for x in range(len(to_replace)):\n",
    "        df[column] = df[column].replace(to_replace[x], replacement[x])\n",
    "\n",
    "def reset_index_set(df_list):\n",
    "    for x in df_list:\n",
    "        x.reset_index(drop=True, inplace=True)\n",
    "\n",
    "def df_to_csv(df_list):\n",
    "    for x in range(len(df_list)):\n",
    "        print('saving')\n",
    "        print(df_list[x])\n",
    "        df_list[x].to_csv(f'{df_names[x]}.csv', index=False)\n",
    "\n",
    "def rename_columns(df):\n",
    "    return df.rename(columns={'REF_DATE': 'year', 'Gender': 'gender', 'Age group': 'age', 'VALUE': 'value'})\n",
    "sk_data = read_and_column_selection('sask_demo_data.csv')\n",
    "sk_data = rename_columns(sk_data)"
   ]
  },
  {
   "cell_type": "code",
   "execution_count": 31,
   "id": "203eccb0-dfa6-42df-8535-28d9830e5e3d",
   "metadata": {},
   "outputs": [],
   "source": [
    "sk_data = sk_data[(sk_data['gender'] != 'Total - gender') & (sk_data['age'] != 'Average age')]"
   ]
  },
  {
   "cell_type": "code",
   "execution_count": 32,
   "id": "a79d52b2-d4a6-40c3-bf86-e3acc84841e0",
   "metadata": {},
   "outputs": [],
   "source": [
    "sk_data.to_csv('sk_data.csv', index=False)"
   ]
  },
  {
   "cell_type": "code",
   "execution_count": 15,
   "id": "179e3c5a-f162-4588-a8f0-bd871e9ca373",
   "metadata": {},
   "outputs": [
    {
     "data": {
      "text/plain": [
       "year       0\n",
       "gender     0\n",
       "age        0\n",
       "value     81\n",
       "dtype: int64"
      ]
     },
     "execution_count": 15,
     "metadata": {},
     "output_type": "execute_result"
    }
   ],
   "source": [
    "sk_data.isnull().sum()"
   ]
  },
  {
   "cell_type": "code",
   "execution_count": 3,
   "id": "31225874-c218-4761-a161-abd41d46f0a5",
   "metadata": {},
   "outputs": [],
   "source": [
    "# Various validation variables\n",
    "list = ['Women+', 'Men+']\n",
    "replace_list = ['Female+', 'Male+']\n",
    "\n",
    "# Lists for value validation\n",
    "gender = ['Total - gender', 'Men+', 'Women+']\n",
    "ref_date = [x for x in range(1970, 2024)]\n",
    "age_group = [x for x in sk_data['age'].value_counts().index]"
   ]
  },
  {
   "cell_type": "code",
   "execution_count": 4,
   "id": "3f49a30b-3ac3-4b4a-9155-7be60ffdeceb",
   "metadata": {},
   "outputs": [],
   "source": [
    "text_replace(sk_data, 'gender', list, replace_list)"
   ]
  },
  {
   "cell_type": "code",
   "execution_count": 5,
   "id": "1d4607f3-772b-493c-8e17-089900248ea7",
   "metadata": {},
   "outputs": [
    {
     "data": {
      "text/plain": [
       "gender\n",
       "Total - gender    1159\n",
       "Male+             1159\n",
       "Female+           1159\n",
       "Name: count, dtype: int64"
      ]
     },
     "execution_count": 5,
     "metadata": {},
     "output_type": "execute_result"
    }
   ],
   "source": [
    "sk_data['gender'].value_counts()"
   ]
  },
  {
   "cell_type": "code",
   "execution_count": 6,
   "id": "3286885a-bc00-46d7-b336-f973a6d2c6dc",
   "metadata": {},
   "outputs": [
    {
     "name": "stdout",
     "output_type": "stream",
     "text": [
      "<class 'pandas.core.frame.DataFrame'>\n",
      "RangeIndex: 3477 entries, 0 to 3476\n",
      "Data columns (total 4 columns):\n",
      " #   Column  Non-Null Count  Dtype  \n",
      "---  ------  --------------  -----  \n",
      " 0   year    3477 non-null   int64  \n",
      " 1   gender  3477 non-null   object \n",
      " 2   age     3477 non-null   object \n",
      " 3   value   3396 non-null   float64\n",
      "dtypes: float64(1), int64(1), object(2)\n",
      "memory usage: 108.8+ KB\n"
     ]
    }
   ],
   "source": [
    "sk_data.info()"
   ]
  },
  {
   "cell_type": "code",
   "execution_count": 7,
   "id": "41e14584-f036-436f-a212-c7ff6aff8e55",
   "metadata": {},
   "outputs": [
    {
     "data": {
      "text/plain": [
       "year       0\n",
       "gender     0\n",
       "age        0\n",
       "value     81\n",
       "dtype: int64"
      ]
     },
     "execution_count": 7,
     "metadata": {},
     "output_type": "execute_result"
    }
   ],
   "source": [
    "sk_data.isnull().sum()"
   ]
  },
  {
   "cell_type": "code",
   "execution_count": 8,
   "id": "955d5eee-296d-4309-bccb-64d01f2bd6d7",
   "metadata": {},
   "outputs": [],
   "source": [
    "sk_all = sk_data[sk_data['gender'] == 'Total - gender']"
   ]
  },
  {
   "cell_type": "code",
   "execution_count": 9,
   "id": "bba688dd-bcaa-4921-844f-315d07021e2a",
   "metadata": {},
   "outputs": [],
   "source": [
    "sk_male = sk_data[sk_data['gender'] == 'Male+']"
   ]
  },
  {
   "cell_type": "code",
   "execution_count": 10,
   "id": "c4815688-801a-4393-9221-0ddfb31457d6",
   "metadata": {},
   "outputs": [],
   "source": [
    "sk_female = sk_data[sk_data['gender'] == 'Female+']"
   ]
  },
  {
   "cell_type": "code",
   "execution_count": 11,
   "id": "e6500783-3d3b-4ba9-9ed8-4214e302df2b",
   "metadata": {},
   "outputs": [],
   "source": [
    "df_list = [sk_all, sk_male, sk_female]\n",
    "df_names = ['sk_all', 'sk_male', 'sk_female']"
   ]
  },
  {
   "cell_type": "code",
   "execution_count": 12,
   "id": "4278126d-ae10-4c44-9fa5-e4716e73d558",
   "metadata": {},
   "outputs": [],
   "source": [
    "reset_index_set(df_list)"
   ]
  },
  {
   "cell_type": "code",
   "execution_count": 13,
   "id": "6d5bf572-1f66-4bb3-a2b6-b3241170a8f2",
   "metadata": {},
   "outputs": [
    {
     "name": "stdout",
     "output_type": "stream",
     "text": [
      "saving\n",
      "      year          gender          age     value\n",
      "0     1971  Total - gender     All ages  932038.0\n",
      "1     1972  Total - gender     All ages  920780.0\n",
      "2     1973  Total - gender     All ages  911937.0\n",
      "3     1974  Total - gender     All ages  908457.0\n",
      "4     1975  Total - gender     All ages  917415.0\n",
      "...    ...             ...          ...       ...\n",
      "1154  2019  Total - gender  Average age      39.2\n",
      "1155  2020  Total - gender  Average age      39.4\n",
      "1156  2021  Total - gender  Average age      39.6\n",
      "1157  2022  Total - gender  Average age      39.7\n",
      "1158  2023  Total - gender  Average age      39.7\n",
      "\n",
      "[1159 rows x 4 columns]\n",
      "saving\n",
      "      year gender          age     value\n",
      "0     1971  Male+     All ages  474252.0\n",
      "1     1972  Male+     All ages  467774.0\n",
      "2     1973  Male+     All ages  462628.0\n",
      "3     1974  Male+     All ages  460370.0\n",
      "4     1975  Male+     All ages  464450.0\n",
      "...    ...    ...          ...       ...\n",
      "1154  2019  Male+  Average age      38.4\n",
      "1155  2020  Male+  Average age      38.6\n",
      "1156  2021  Male+  Average age      38.8\n",
      "1157  2022  Male+  Average age      38.9\n",
      "1158  2023  Male+  Average age      38.9\n",
      "\n",
      "[1159 rows x 4 columns]\n",
      "saving\n",
      "      year   gender          age     value\n",
      "0     1971  Female+     All ages  457786.0\n",
      "1     1972  Female+     All ages  453006.0\n",
      "2     1973  Female+     All ages  449309.0\n",
      "3     1974  Female+     All ages  448087.0\n",
      "4     1975  Female+     All ages  452965.0\n",
      "...    ...      ...          ...       ...\n",
      "1154  2019  Female+  Average age      40.0\n",
      "1155  2020  Female+  Average age      40.2\n",
      "1156  2021  Female+  Average age      40.5\n",
      "1157  2022  Female+  Average age      40.5\n",
      "1158  2023  Female+  Average age      40.5\n",
      "\n",
      "[1159 rows x 4 columns]\n"
     ]
    }
   ],
   "source": [
    "df_to_csv(df_list)\n",
    "#sk_male.to_csv('sk_male.csv', index=False)"
   ]
  }
 ],
 "metadata": {
  "kernelspec": {
   "display_name": "ava",
   "language": "python",
   "name": "ava"
  },
  "language_info": {
   "codemirror_mode": {
    "name": "ipython",
    "version": 3
   },
   "file_extension": ".py",
   "mimetype": "text/x-python",
   "name": "python",
   "nbconvert_exporter": "python",
   "pygments_lexer": "ipython3",
   "version": "3.10.13"
  }
 },
 "nbformat": 4,
 "nbformat_minor": 5
}
